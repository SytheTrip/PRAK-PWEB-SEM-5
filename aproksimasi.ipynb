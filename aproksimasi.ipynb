{
  "nbformat": 4,
  "nbformat_minor": 0,
  "metadata": {
    "colab": {
      "provenance": [],
      "authorship_tag": "ABX9TyNp1f0BbyZkMrjxflfE0YWj",
      "include_colab_link": true
    },
    "kernelspec": {
      "name": "python3",
      "display_name": "Python 3"
    },
    "language_info": {
      "name": "python"
    }
  },
  "cells": [
    {
      "cell_type": "markdown",
      "metadata": {
        "id": "view-in-github",
        "colab_type": "text"
      },
      "source": [
        "<a href=\"https://colab.research.google.com/github/SytheTrip/PRAK-PWEB-SEM-5/blob/main/aproksimasi.ipynb\" target=\"_parent\"><img src=\"https://colab.research.google.com/assets/colab-badge.svg\" alt=\"Open In Colab\"/></a>"
      ]
    },
    {
      "cell_type": "code",
      "execution_count": 1,
      "metadata": {
        "colab": {
          "base_uri": "https://localhost:8080/"
        },
        "id": "qoJetQfn7Cex",
        "outputId": "64d721e9-0fa0-48ef-efce-194a332eaed4"
      },
      "outputs": [
        {
          "output_type": "stream",
          "name": "stdout",
          "text": [
            "Perkiraan luas daerah yang dibatasi oleh y = e^x dalam interval 1 ≤ x ≤ 3 adalah: 17.7556146400979\n"
          ]
        }
      ],
      "source": [
        "import numpy as np\n",
        "\n",
        "# Fungsi yang akan diintegrasikan\n",
        "def f(x):\n",
        "    return np.exp(x)\n",
        "\n",
        "# Batas bawah dan atas interval\n",
        "a = 1\n",
        "b = 3\n",
        "\n",
        "# Jumlah titik acak yang akan digenerate\n",
        "n = 1000\n",
        "\n",
        "# Inisialisasi jumlah titik di bawah kurva\n",
        "points_under_curve = 0\n",
        "\n",
        "# Generate titik-titik acak di dalam kotak pembatas\n",
        "for _ in range(n):\n",
        "    x = np.random.uniform(a, b)\n",
        "    y = np.random.uniform(0, f(b))\n",
        "\n",
        "    if y <= f(x):\n",
        "        points_under_curve += 1\n",
        "\n",
        "# Perkiraan luas daerah di bawah kurva\n",
        "total_area = (points_under_curve / n) * (b - a) * f(b)\n",
        "\n",
        "print(\"Perkiraan luas daerah yang dibatasi oleh y = e^x dalam interval 1 ≤ x ≤ 3 adalah:\", total_area)"
      ]
    },
    {
      "cell_type": "code",
      "source": [
        "from scipy.integrate import quad\n",
        "import numpy as np\n",
        "\n",
        "# Fungsi yang akan diintegrasikan\n",
        "def f(x):\n",
        "    return np.exp(x)\n",
        "\n",
        "# Batas bawah dan atas interval\n",
        "a = 1\n",
        "b = 3\n",
        "\n",
        "# Hitung integral fungsi dari a hingga b\n",
        "result, _ = quad(f, a, b)\n",
        "\n",
        "print(\"Luas daerah yang dibatasi oleh y = e^x dalam interval 1 ≤ x ≤ 3 adalah:\", result)"
      ],
      "metadata": {
        "id": "YQHbj5hP8KQW"
      },
      "execution_count": null,
      "outputs": []
    },
    {
      "cell_type": "code",
      "source": [
        "import numpy as np\n",
        "\n",
        "# Fungsi yang akan diintegrasikan\n",
        "def f(x):\n",
        "    return np.exp(x)\n",
        "\n",
        "# Jumlah segmen yang digunakan untuk aproksimasi\n",
        "n = 1000\n",
        "\n",
        "# Batas bawah dan atas interval\n",
        "a = 1\n",
        "b = 3\n",
        "\n",
        "# Lebar segmen\n",
        "dx = (b - a) / n\n",
        "\n",
        "# Inisialisasi total luas\n",
        "total_area = 0\n",
        "\n",
        "# Menghitung luas dengan pendekatan Riemann\n",
        "for i in range(n):\n",
        "    x = a + i * dx\n",
        "    total_area += f(x) * dx\n",
        "\n",
        "print(\"Luas daerah yang dibatasi oleh y = e^x dalam interval 1 ≤ x ≤ 3 adalah:\", total_area)"
      ],
      "metadata": {
        "id": "VS8cW82A8NMP"
      },
      "execution_count": null,
      "outputs": []
    }
  ]
}